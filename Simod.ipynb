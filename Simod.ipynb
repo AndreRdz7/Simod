{
 "cells": [
  {
   "cell_type": "code",
   "execution_count": 3,
   "metadata": {
    "editable": false,
    "scrolled": false
   },
   "outputs": [
    {
     "ename": "SyntaxError",
     "evalue": "invalid syntax (schedule_tables.py, line 104)",
     "output_type": "error",
     "traceback": [
      "Traceback \u001b[1;36m(most recent call last)\u001b[0m:\n",
      "  File \u001b[0;32m\"C:\\Users\\Pato\\Anaconda3\\envs\\simo_jupyter\\lib\\site-packages\\IPython\\core\\interactiveshell.py\"\u001b[0m, line \u001b[0;32m3291\u001b[0m, in \u001b[0;35mrun_code\u001b[0m\n    exec(code_obj, self.user_global_ns, self.user_ns)\n",
      "  File \u001b[0;32m\"<ipython-input-3-d10ceeddd87a>\"\u001b[0m, line \u001b[0;32m3\u001b[0m, in \u001b[0;35m<module>\u001b[0m\n    import menu\n",
      "  File \u001b[0;32m\"C:\\Users\\Pato\\Desktop\\Investigacion\\Simod\\menu.py\"\u001b[0m, line \u001b[0;32m17\u001b[0m, in \u001b[0;35m<module>\u001b[0m\n    import simod as sim\n",
      "  File \u001b[0;32m\"C:\\Users\\Pato\\Desktop\\Investigacion\\Simod\\simod.py\"\u001b[0m, line \u001b[0;32m28\u001b[0m, in \u001b[0;35m<module>\u001b[0m\n    from extraction import parameter_extraction as par\n",
      "\u001b[1;36m  File \u001b[1;32m\"C:\\Users\\Pato\\Desktop\\Investigacion\\Simod\\extraction\\parameter_extraction.py\"\u001b[1;36m, line \u001b[1;32m8\u001b[1;36m, in \u001b[1;35m<module>\u001b[1;36m\u001b[0m\n\u001b[1;33m    from extraction import schedule_tables as sch\u001b[0m\n",
      "\u001b[1;36m  File \u001b[1;32m\"C:\\Users\\Pato\\Desktop\\Investigacion\\Simod\\extraction\\schedule_tables.py\"\u001b[1;36m, line \u001b[1;32m104\u001b[0m\n\u001b[1;33m    schedule = dict(work_days = [1,1,1,1,1,1,1], start_hour = datetime(1900,1,1,0, 0, 0), end_hour = datetime(1900,1,1,23, 59, 59))\u001b[0m\n\u001b[1;37m           ^\u001b[0m\n\u001b[1;31mSyntaxError\u001b[0m\u001b[1;31m:\u001b[0m invalid syntax\n"
     ]
    }
   ],
   "source": [
    "%matplotlib inline\n",
    "%config InlineBackend.close_figures=False \n",
    "import menu\n",
    "menu.frame"
   ]
  }
 ],
 "metadata": {
  "celltoolbar": "Edit Metadata",
  "kernelspec": {
   "display_name": "Python 3",
   "language": "python",
   "name": "python3"
  },
  "language_info": {
   "codemirror_mode": {
    "name": "ipython",
    "version": 3
   },
   "file_extension": ".py",
   "mimetype": "text/x-python",
   "name": "python",
   "nbconvert_exporter": "python",
   "pygments_lexer": "ipython3",
   "version": "3.6.8"
  },
  "toc": {
   "base_numbering": 1,
   "nav_menu": {},
   "number_sections": false,
   "sideBar": false,
   "skip_h1_title": false,
   "title_cell": "Table of Contents",
   "title_sidebar": "Contents",
   "toc_cell": false,
   "toc_position": {},
   "toc_section_display": false,
   "toc_window_display": false
  }
 },
 "nbformat": 4,
 "nbformat_minor": 2
}
